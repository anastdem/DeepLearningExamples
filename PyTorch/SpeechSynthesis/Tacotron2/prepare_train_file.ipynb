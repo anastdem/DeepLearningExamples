{
 "cells": [
  {
   "cell_type": "code",
   "execution_count": 1,
   "id": "13231c76",
   "metadata": {},
   "outputs": [],
   "source": [
    "import pandas as pd\n",
    "from unidecode import unidecode"
   ]
  },
  {
   "cell_type": "code",
   "execution_count": 3,
   "id": "f5d54859",
   "metadata": {},
   "outputs": [
    {
     "name": "stdout",
     "output_type": "stream",
     "text": [
      "NISQA_results.csv\r\n"
     ]
    }
   ],
   "source": [
    "ls NISQA/ruslan_taco_val_gen_fp32/NISQA_results.csv\n"
   ]
  },
  {
   "cell_type": "code",
   "execution_count": 8,
   "id": "6fcebd51",
   "metadata": {},
   "outputs": [],
   "source": [
    "df = pd.read_csv('NISQA/ruslan_taco_val_gen_fp32/NISQA_results.csv')"
   ]
  },
  {
   "cell_type": "code",
   "execution_count": 9,
   "id": "88326692",
   "metadata": {},
   "outputs": [
    {
     "data": {
      "text/html": [
       "<div>\n",
       "<style scoped>\n",
       "    .dataframe tbody tr th:only-of-type {\n",
       "        vertical-align: middle;\n",
       "    }\n",
       "\n",
       "    .dataframe tbody tr th {\n",
       "        vertical-align: top;\n",
       "    }\n",
       "\n",
       "    .dataframe thead th {\n",
       "        text-align: right;\n",
       "    }\n",
       "</style>\n",
       "<table border=\"1\" class=\"dataframe\">\n",
       "  <thead>\n",
       "    <tr style=\"text-align: right;\">\n",
       "      <th></th>\n",
       "      <th>mos_pred</th>\n",
       "      <th>noi_pred</th>\n",
       "      <th>dis_pred</th>\n",
       "      <th>col_pred</th>\n",
       "      <th>loud_pred</th>\n",
       "    </tr>\n",
       "  </thead>\n",
       "  <tbody>\n",
       "    <tr>\n",
       "      <th>count</th>\n",
       "      <td>32.000000</td>\n",
       "      <td>32.000000</td>\n",
       "      <td>32.000000</td>\n",
       "      <td>32.000000</td>\n",
       "      <td>32.000000</td>\n",
       "    </tr>\n",
       "    <tr>\n",
       "      <th>mean</th>\n",
       "      <td>2.891276</td>\n",
       "      <td>3.428174</td>\n",
       "      <td>3.744859</td>\n",
       "      <td>3.123819</td>\n",
       "      <td>3.532791</td>\n",
       "    </tr>\n",
       "    <tr>\n",
       "      <th>std</th>\n",
       "      <td>0.441670</td>\n",
       "      <td>0.443423</td>\n",
       "      <td>0.383140</td>\n",
       "      <td>0.364161</td>\n",
       "      <td>0.391280</td>\n",
       "    </tr>\n",
       "    <tr>\n",
       "      <th>min</th>\n",
       "      <td>2.130096</td>\n",
       "      <td>2.570467</td>\n",
       "      <td>2.931098</td>\n",
       "      <td>2.298896</td>\n",
       "      <td>2.702673</td>\n",
       "    </tr>\n",
       "    <tr>\n",
       "      <th>25%</th>\n",
       "      <td>2.552911</td>\n",
       "      <td>3.051538</td>\n",
       "      <td>3.502216</td>\n",
       "      <td>2.900143</td>\n",
       "      <td>3.359932</td>\n",
       "    </tr>\n",
       "    <tr>\n",
       "      <th>50%</th>\n",
       "      <td>2.901930</td>\n",
       "      <td>3.463947</td>\n",
       "      <td>3.837868</td>\n",
       "      <td>3.200991</td>\n",
       "      <td>3.597792</td>\n",
       "    </tr>\n",
       "    <tr>\n",
       "      <th>75%</th>\n",
       "      <td>3.148217</td>\n",
       "      <td>3.833394</td>\n",
       "      <td>3.939379</td>\n",
       "      <td>3.334332</td>\n",
       "      <td>3.790138</td>\n",
       "    </tr>\n",
       "    <tr>\n",
       "      <th>max</th>\n",
       "      <td>4.122599</td>\n",
       "      <td>4.112743</td>\n",
       "      <td>4.381551</td>\n",
       "      <td>4.056811</td>\n",
       "      <td>4.404782</td>\n",
       "    </tr>\n",
       "  </tbody>\n",
       "</table>\n",
       "</div>"
      ],
      "text/plain": [
       "        mos_pred   noi_pred   dis_pred   col_pred  loud_pred\n",
       "count  32.000000  32.000000  32.000000  32.000000  32.000000\n",
       "mean    2.891276   3.428174   3.744859   3.123819   3.532791\n",
       "std     0.441670   0.443423   0.383140   0.364161   0.391280\n",
       "min     2.130096   2.570467   2.931098   2.298896   2.702673\n",
       "25%     2.552911   3.051538   3.502216   2.900143   3.359932\n",
       "50%     2.901930   3.463947   3.837868   3.200991   3.597792\n",
       "75%     3.148217   3.833394   3.939379   3.334332   3.790138\n",
       "max     4.122599   4.112743   4.381551   4.056811   4.404782"
      ]
     },
     "execution_count": 9,
     "metadata": {},
     "output_type": "execute_result"
    }
   ],
   "source": [
    "df.describe()"
   ]
  },
  {
   "cell_type": "code",
   "execution_count": 3,
   "id": "d8e3f83a",
   "metadata": {},
   "outputs": [
    {
     "name": "stdout",
     "output_type": "stream",
     "text": [
      "Natasha   litres22\t       metadata_NATASHA_norm.csv\r\n",
      "RUSLAN22  litres_metadata.csv  metadata_RUSLAN_norm.csv\r\n"
     ]
    }
   ],
   "source": [
    "!ls data"
   ]
  },
  {
   "cell_type": "code",
   "execution_count": 100,
   "id": "70b69cde",
   "metadata": {},
   "outputs": [],
   "source": [
    "# df = pd.read_csv('data/metadata_RUSLAN_norm.csv', sep='|', header=None)\n",
    "# df = pd.read_csv('data/metadata_NATASHA_norm.csv', sep='|', header=None)\n",
    "# df = pd.read_csv('data/litres_metadata.csv', sep='|', header=None)"
   ]
  },
  {
   "cell_type": "code",
   "execution_count": 101,
   "id": "11207255",
   "metadata": {},
   "outputs": [
    {
     "data": {
      "text/html": [
       "<div>\n",
       "<style scoped>\n",
       "    .dataframe tbody tr th:only-of-type {\n",
       "        vertical-align: middle;\n",
       "    }\n",
       "\n",
       "    .dataframe tbody tr th {\n",
       "        vertical-align: top;\n",
       "    }\n",
       "\n",
       "    .dataframe thead th {\n",
       "        text-align: right;\n",
       "    }\n",
       "</style>\n",
       "<table border=\"1\" class=\"dataframe\">\n",
       "  <thead>\n",
       "    <tr style=\"text-align: right;\">\n",
       "      <th></th>\n",
       "      <th>0</th>\n",
       "      <th>1</th>\n",
       "      <th>2</th>\n",
       "    </tr>\n",
       "  </thead>\n",
       "  <tbody>\n",
       "    <tr>\n",
       "      <th>0</th>\n",
       "      <td>data/litres22/000000.wav</td>\n",
       "      <td>Я был единственным свободным мужчиной, за столом.</td>\n",
       "      <td>Я б+ыл ед+инственным свободным мужч+иной, за с...</td>\n",
       "    </tr>\n",
       "    <tr>\n",
       "      <th>1</th>\n",
       "      <td>data/litres22/000001.wav</td>\n",
       "      <td>И всеобщего проигрыша.</td>\n",
       "      <td>И все+общего пр+оигрыша.</td>\n",
       "    </tr>\n",
       "    <tr>\n",
       "      <th>2</th>\n",
       "      <td>data/litres22/000002.wav</td>\n",
       "      <td>Это верно.</td>\n",
       "      <td>Это в+ерно.</td>\n",
       "    </tr>\n",
       "    <tr>\n",
       "      <th>3</th>\n",
       "      <td>data/litres22/000003.wav</td>\n",
       "      <td>Некоторые эмоции вообще невозможно контролиров...</td>\n",
       "      <td>Некоторые эм+оции вообще невозм+ожно контролир...</td>\n",
       "    </tr>\n",
       "    <tr>\n",
       "      <th>4</th>\n",
       "      <td>data/litres22/000004.wav</td>\n",
       "      <td>Красивые стихи.</td>\n",
       "      <td>Красивые стих+и.</td>\n",
       "    </tr>\n",
       "  </tbody>\n",
       "</table>\n",
       "</div>"
      ],
      "text/plain": [
       "                          0  \\\n",
       "0  data/litres22/000000.wav   \n",
       "1  data/litres22/000001.wav   \n",
       "2  data/litres22/000002.wav   \n",
       "3  data/litres22/000003.wav   \n",
       "4  data/litres22/000004.wav   \n",
       "\n",
       "                                                   1  \\\n",
       "0  Я был единственным свободным мужчиной, за столом.   \n",
       "1                             И всеобщего проигрыша.   \n",
       "2                                         Это верно.   \n",
       "3  Некоторые эмоции вообще невозможно контролиров...   \n",
       "4                                    Красивые стихи.   \n",
       "\n",
       "                                                   2  \n",
       "0  Я б+ыл ед+инственным свободным мужч+иной, за с...  \n",
       "1                           И все+общего пр+оигрыша.  \n",
       "2                                        Это в+ерно.  \n",
       "3  Некоторые эм+оции вообще невозм+ожно контролир...  \n",
       "4                                   Красивые стих+и.  "
      ]
     },
     "execution_count": 101,
     "metadata": {},
     "output_type": "execute_result"
    }
   ],
   "source": [
    "df.head()"
   ]
  },
  {
   "cell_type": "code",
   "execution_count": 37,
   "id": "607b7e17",
   "metadata": {},
   "outputs": [],
   "source": [
    "df = df[~df[0].isin(['005321_RUSLAN', '009017_RUSLAN', '016720_RUSLAN', '021885_RUSLAN', '011906_RUSLAN',\n",
    "                    '019204_RUSLAN', '020197_RUSLAN', '020199_RUSLAN'])]"
   ]
  },
  {
   "cell_type": "markdown",
   "id": "27dabfed",
   "metadata": {},
   "source": [
    "Проверим какой словарь"
   ]
  },
  {
   "cell_type": "code",
   "execution_count": 102,
   "id": "d8518179",
   "metadata": {},
   "outputs": [],
   "source": [
    "from collections import Counter\n",
    "letters = Counter()\n",
    "for index, row in df.iterrows():\n",
    "    letters.update(row[1].lower())"
   ]
  },
  {
   "cell_type": "code",
   "execution_count": 103,
   "id": "3d21177c",
   "metadata": {},
   "outputs": [
    {
     "data": {
      "text/plain": [
       "' !,.:?абвгдежзийклмнопрстуфхцчшщъыьэюя'"
      ]
     },
     "execution_count": 103,
     "metadata": {},
     "output_type": "execute_result"
    }
   ],
   "source": [
    "''.join(sorted(''.join(letters.keys())))"
   ]
  },
  {
   "cell_type": "markdown",
   "id": "644e481f",
   "metadata": {},
   "source": [
    "Если словарь содержит лишние символы, то удалим или заменим их"
   ]
  },
  {
   "cell_type": "code",
   "execution_count": 29,
   "id": "81241b1f",
   "metadata": {},
   "outputs": [],
   "source": [
    "import re\n",
    "_re = re.compile(r'\"+')\n",
    "def normalize(text):\n",
    "    text = text.replace('–', '-')\n",
    "    text = text.replace('—', '-')\n",
    "    text = text.replace('…', '...')\n",
    "    text = text.replace('”', '\"')\n",
    "    text = text.replace('«', '\"')\n",
    "    text = text.replace('»', '\"')\n",
    "    text = text.replace('‑', '-')\n",
    "    text = text.replace('„', '\"')\n",
    "    text = text.replace('’', '\\'')\n",
    "    text = text.replace('“', '\"')\n",
    "    text = text.replace('*', '')\n",
    "    text = text.replace('/', '')\n",
    "    text = text.replace('1', '')\n",
    "    text = text.replace('4', '')\n",
    "    text = text.replace('6', '')\n",
    "    text = re.sub(_re, '\"', text)\n",
    "    return text"
   ]
  },
  {
   "cell_type": "code",
   "execution_count": 30,
   "id": "297d40b0",
   "metadata": {},
   "outputs": [],
   "source": [
    "df[1] = df[1].apply(lambda x: normalize(x))"
   ]
  },
  {
   "cell_type": "code",
   "execution_count": 15,
   "id": "f400a419",
   "metadata": {},
   "outputs": [],
   "source": [
    "# df.to_csv('metadata_NATASHA_norm.csv', sep='|', header=None, index=None)"
   ]
  },
  {
   "cell_type": "code",
   "execution_count": 29,
   "id": "176de30f",
   "metadata": {},
   "outputs": [],
   "source": [
    "from tps import download, find\n",
    "# from tps.data import find\n",
    "from tps.modules import Emphasizer, BlindReplacer\n",
    "\n",
    "\n",
    "try:\n",
    "    stress_dict = find(\"stress.dict\", raise_exception=True)\n",
    "except FileNotFoundError:\n",
    "    stress_dict = download(\"stress.dict\")\n",
    "    \n",
    "try:\n",
    "    yo_dict = find(\"yo.dict\", raise_exception=True)\n",
    "except FileNotFoundError:\n",
    "    yo_dict = download(\"yo.dict\")\n",
    "    \n",
    "try:\n",
    "    e_dict = find(\"e.dict\", raise_exception=True)\n",
    "except FileNotFoundError:\n",
    "    e_dict = download(\"e.dict\")\n",
    "    \n",
    "\n",
    "yo_rep = BlindReplacer([yo_dict, \"plane\"])\n",
    "e_rep = BlindReplacer([e_dict, \"plane\"])\n",
    "emphasizer = Emphasizer([stress_dict, \"plane\"], True)\n",
    "# text = \"Кроме того, официальная концепция Маяковского‑реалиста требует, по возможности, оторвать его от футуристического окружения, выделить из пестрой литературной среды двадцатых годов, в которой Лиля и Осип Брик занимали достойное и яркое место.\"\n",
    "# text = 'деквалификациям'\n",
    "# emphasizer.process_text(text)\n",
    "# e_rep.process_text(text)\n"
   ]
  },
  {
   "cell_type": "code",
   "execution_count": 107,
   "id": "170ce75d",
   "metadata": {},
   "outputs": [],
   "source": [
    "df[2] = df[1].apply(lambda x: emphasizer.process_text(e_rep.process_text(yo_rep.process_text(x))))\n",
    "df[3] = df[2].apply(lambda x: len(x))\n",
    "df = df[(df[3] < 500) & (df[3] > 20)]\n",
    "# df = df[df[5] > 15]"
   ]
  },
  {
   "cell_type": "code",
   "execution_count": 109,
   "id": "42a60304",
   "metadata": {},
   "outputs": [
    {
     "data": {
      "text/plain": [
       "21"
      ]
     },
     "execution_count": 109,
     "metadata": {},
     "output_type": "execute_result"
    }
   ],
   "source": [
    "df[3].min()"
   ]
  },
  {
   "cell_type": "code",
   "execution_count": 110,
   "id": "1c6c13d9",
   "metadata": {},
   "outputs": [
    {
     "name": "stdout",
     "output_type": "stream",
     "text": [
      "Natasha   litres22\t       metadata_NATASHA_norm.csv\r\n",
      "RUSLAN22  litres_metadata.csv  metadata_RUSLAN_norm.csv\r\n"
     ]
    }
   ],
   "source": [
    "!ls data"
   ]
  },
  {
   "cell_type": "code",
   "execution_count": 66,
   "id": "a66719cc",
   "metadata": {},
   "outputs": [],
   "source": [
    "# Добавляем путь к данным \n",
    "# data_dir = \"data/RUSLAN22/\"\n",
    "# df[0] = df[0].apply(lambda x: data_dir + x + '.wav')\n",
    "\n",
    "data_dir = \"data/Natasha/\"\n",
    "df[0] = df[0].apply(lambda x: data_dir + x)"
   ]
  },
  {
   "cell_type": "code",
   "execution_count": 111,
   "id": "d088dd06",
   "metadata": {},
   "outputs": [
    {
     "data": {
      "text/html": [
       "<div>\n",
       "<style scoped>\n",
       "    .dataframe tbody tr th:only-of-type {\n",
       "        vertical-align: middle;\n",
       "    }\n",
       "\n",
       "    .dataframe tbody tr th {\n",
       "        vertical-align: top;\n",
       "    }\n",
       "\n",
       "    .dataframe thead th {\n",
       "        text-align: right;\n",
       "    }\n",
       "</style>\n",
       "<table border=\"1\" class=\"dataframe\">\n",
       "  <thead>\n",
       "    <tr style=\"text-align: right;\">\n",
       "      <th></th>\n",
       "      <th>0</th>\n",
       "      <th>1</th>\n",
       "      <th>2</th>\n",
       "      <th>3</th>\n",
       "    </tr>\n",
       "  </thead>\n",
       "  <tbody>\n",
       "    <tr>\n",
       "      <th>0</th>\n",
       "      <td>data/litres22/000000.wav</td>\n",
       "      <td>Я был единственным свободным мужчиной, за столом.</td>\n",
       "      <td>Я б+ыл ед+инственным свободным мужч+иной, за с...</td>\n",
       "      <td>53</td>\n",
       "    </tr>\n",
       "    <tr>\n",
       "      <th>1</th>\n",
       "      <td>data/litres22/000001.wav</td>\n",
       "      <td>И всеобщего проигрыша.</td>\n",
       "      <td>И все+общего пр+оигрыша.</td>\n",
       "      <td>24</td>\n",
       "    </tr>\n",
       "    <tr>\n",
       "      <th>3</th>\n",
       "      <td>data/litres22/000003.wav</td>\n",
       "      <td>Некоторые эмоции вообще невозможно контролиров...</td>\n",
       "      <td>Некоторые эм+оции вообще невозм+ожно контролир...</td>\n",
       "      <td>52</td>\n",
       "    </tr>\n",
       "    <tr>\n",
       "      <th>5</th>\n",
       "      <td>data/litres22/000005.wav</td>\n",
       "      <td>Мы пришли к мирному существованию.</td>\n",
       "      <td>Мы пришл+и к м+ирному существов+анию.</td>\n",
       "      <td>37</td>\n",
       "    </tr>\n",
       "    <tr>\n",
       "      <th>6</th>\n",
       "      <td>data/litres22/000006.wav</td>\n",
       "      <td>Ойро пытается уклониться, но снег попадает ей ...</td>\n",
       "      <td>Ойро пыт+ается уклон+иться, но сн+ег попадает ...</td>\n",
       "      <td>188</td>\n",
       "    </tr>\n",
       "  </tbody>\n",
       "</table>\n",
       "</div>"
      ],
      "text/plain": [
       "                          0  \\\n",
       "0  data/litres22/000000.wav   \n",
       "1  data/litres22/000001.wav   \n",
       "3  data/litres22/000003.wav   \n",
       "5  data/litres22/000005.wav   \n",
       "6  data/litres22/000006.wav   \n",
       "\n",
       "                                                   1  \\\n",
       "0  Я был единственным свободным мужчиной, за столом.   \n",
       "1                             И всеобщего проигрыша.   \n",
       "3  Некоторые эмоции вообще невозможно контролиров...   \n",
       "5                 Мы пришли к мирному существованию.   \n",
       "6  Ойро пытается уклониться, но снег попадает ей ...   \n",
       "\n",
       "                                                   2    3  \n",
       "0  Я б+ыл ед+инственным свободным мужч+иной, за с...   53  \n",
       "1                           И все+общего пр+оигрыша.   24  \n",
       "3  Некоторые эм+оции вообще невозм+ожно контролир...   52  \n",
       "5              Мы пришл+и к м+ирному существов+анию.   37  \n",
       "6  Ойро пыт+ается уклон+иться, но сн+ег попадает ...  188  "
      ]
     },
     "execution_count": 111,
     "metadata": {},
     "output_type": "execute_result"
    }
   ],
   "source": [
    "df.head()"
   ]
  },
  {
   "cell_type": "code",
   "execution_count": 112,
   "id": "57a7a918",
   "metadata": {},
   "outputs": [
    {
     "data": {
      "text/html": [
       "\n",
       "                <audio  controls=\"controls\" >\n",
       "                    <source src=\"data:audio/wav;base64,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\" type=\"audio/wav\" />\n",
       "                    Your browser does not support the audio element.\n",
       "                </audio>\n",
       "              "
      ],
      "text/plain": [
       "<IPython.lib.display.Audio object>"
      ]
     },
     "execution_count": 112,
     "metadata": {},
     "output_type": "execute_result"
    }
   ],
   "source": [
    "from scipy.io.wavfile import read\n",
    "import IPython.display as ipd\n",
    "sampling_rate, data = read(df[0][0])\n",
    "ipd.Audio(data, rate=sampling_rate) "
   ]
  },
  {
   "cell_type": "code",
   "execution_count": 113,
   "id": "8f83e801",
   "metadata": {},
   "outputs": [],
   "source": [
    "from sklearn.model_selection import train_test_split\n",
    "train, val = train_test_split(df, test_size=0.1, random_state=42)"
   ]
  },
  {
   "cell_type": "code",
   "execution_count": 118,
   "id": "9a1ba829",
   "metadata": {},
   "outputs": [
    {
     "name": "stdout",
     "output_type": "stream",
     "text": [
      "litres_data_train.txt\r\n",
      "litres_data_train_emp.txt\r\n",
      "litres_data_val.txt\r\n",
      "litres_data_val_emp.txt\r\n",
      "\u001b[0m\u001b[01;32mljs_audio_text_test_filelist.txt\u001b[0m*\r\n",
      "\u001b[01;32mljs_audio_text_train_filelist.txt\u001b[0m*\r\n",
      "ljs_audio_text_train_subset_1250_filelist.txt\r\n",
      "ljs_audio_text_train_subset_2500_filelist.txt\r\n",
      "ljs_audio_text_train_subset_300_filelist.txt\r\n",
      "ljs_audio_text_train_subset_625_filelist.txt\r\n",
      "ljs_audio_text_train_subset_64_filelist.txt\r\n",
      "\u001b[01;32mljs_audio_text_val_filelist.txt\u001b[0m*\r\n",
      "ljs_mel_text_filelist.txt\r\n",
      "ljs_mel_text_test_filelist.txt\r\n",
      "ljs_mel_text_train_filelist.txt\r\n",
      "ljs_mel_text_train_subset_1250_filelist.txt\r\n",
      "ljs_mel_text_train_subset_2500_filelist.txt\r\n",
      "ljs_mel_text_train_subset_625_filelist.txt\r\n",
      "ljs_mel_text_val_filelist.txt\r\n",
      "natasha_data_train.txt\r\n",
      "natasha_data_train_emp.txt\r\n",
      "natasha_data_val.txt\r\n",
      "natasha_data_val_emp.txt\r\n",
      "ruslan_data_train.txt\r\n",
      "ruslan_data_train_emp.txt\r\n",
      "ruslan_data_val.txt\r\n",
      "ruslan_data_val_emp.txt\r\n"
     ]
    }
   ],
   "source": [
    "ls filelists/"
   ]
  },
  {
   "cell_type": "code",
   "execution_count": 116,
   "id": "08abcac4",
   "metadata": {},
   "outputs": [
    {
     "data": {
      "text/plain": [
       "((23373, 4), (2597, 4))"
      ]
     },
     "execution_count": 116,
     "metadata": {},
     "output_type": "execute_result"
    }
   ],
   "source": [
    "train.shape, val.shape"
   ]
  },
  {
   "cell_type": "code",
   "execution_count": 117,
   "id": "2dd0a3da",
   "metadata": {},
   "outputs": [],
   "source": [
    "# speacker = 'ruslan'\n",
    "# speacker = 'natasha'\n",
    "speacker = 'litres'\n",
    "\n",
    "train[[0, 1]].to_csv(f'filelists/{speacker}_audio_text_train.txt', header=None, index=None, sep='|')\n",
    "val[[0, 1]].to_csv(f'filelists/{speacker}_audio_text_val.txt', header=None, index=None, sep='|')\n",
    "\n",
    "train[[0, 2]].to_csv(f'filelists/{speacker}_audio_text_train_emp.txt', header=None, index=None, sep='|')\n",
    "val[[0, 2]].to_csv(f'filelists/{speacker}_audio_text_val_emp.txt', header=None, index=None, sep='|')\n",
    "\n"
   ]
  },
  {
   "cell_type": "code",
   "execution_count": 209,
   "id": "6fca0921",
   "metadata": {},
   "outputs": [
    {
     "name": "stdout",
     "output_type": "stream",
     "text": [
      "litres_audio_text_train.txt\r\n",
      "litres_audio_text_train_emp.txt\r\n",
      "litres_audio_text_val.txt\r\n",
      "litres_audio_text_val_emp.txt\r\n",
      "litres_mel_text_train.txt\r\n",
      "litres_mel_text_train_emp.txt\r\n",
      "litres_mel_text_val.txt\r\n",
      "litres_mel_text_val_emp.txt\r\n",
      "ljs_audio_text_test_filelist.txt\r\n",
      "ljs_audio_text_train_filelist.txt\r\n",
      "ljs_audio_text_train_subset_1250_filelist.txt\r\n",
      "ljs_audio_text_train_subset_2500_filelist.txt\r\n",
      "ljs_audio_text_train_subset_300_filelist.txt\r\n",
      "ljs_audio_text_train_subset_625_filelist.txt\r\n",
      "ljs_audio_text_train_subset_64_filelist.txt\r\n",
      "ljs_audio_text_val_filelist.txt\r\n",
      "ljs_mel_text_filelist.txt\r\n",
      "ljs_mel_text_test_filelist.txt\r\n",
      "ljs_mel_text_train_filelist.txt\r\n",
      "ljs_mel_text_train_subset_1250_filelist.txt\r\n",
      "ljs_mel_text_train_subset_2500_filelist.txt\r\n",
      "ljs_mel_text_train_subset_625_filelist.txt\r\n",
      "ljs_mel_text_val_filelist.txt\r\n",
      "natasha_audio_text_train.txt\r\n",
      "natasha_audio_text_train_emp.txt\r\n",
      "natasha_audio_text_val.txt\r\n",
      "natasha_audio_text_val_emp.txt\r\n",
      "natasha_mel_text_train.txt\r\n",
      "natasha_mel_text_train_emp.txt\r\n",
      "natasha_mel_text_val.txt\r\n",
      "natasha_mel_text_val_emp.txt\r\n",
      "ruslan_audio_text_train.txt\r\n",
      "ruslan_audio_text_train_emp.txt\r\n",
      "ruslan_audio_text_val.txt\r\n",
      "ruslan_audio_text_val_emp.txt\r\n",
      "ruslan_mel_text_train.txt\r\n",
      "ruslan_mel_text_train_emp.txt\r\n",
      "ruslan_mel_text_val.txt\r\n",
      "ruslan_mel_text_val_emp.txt\r\n"
     ]
    }
   ],
   "source": [
    "!ls filelists/"
   ]
  },
  {
   "cell_type": "code",
   "execution_count": 21,
   "id": "9f2786b8",
   "metadata": {},
   "outputs": [],
   "source": [
    "# train[0].to_csv('waveglow/ruslan_data_train_audio.txt', header=None, index=None, sep='|')\n",
    "# val[0].to_csv('waveglow/ruslan_data_val_audio.txt', header=None, index=None, sep='|')"
   ]
  },
  {
   "cell_type": "code",
   "execution_count": 141,
   "id": "9a17e3b6",
   "metadata": {},
   "outputs": [],
   "source": [
    "def wav2mel(row):\n",
    "    x = row.split('/')\n",
    "    x[-2] = 'mels'\n",
    "    x[-1] = x[-1][:-3] + 'pt'\n",
    "    return '/'.join(x)"
   ]
  },
  {
   "cell_type": "code",
   "execution_count": 208,
   "id": "80e0eb30",
   "metadata": {},
   "outputs": [],
   "source": [
    "# speacker = 'ruslan'\n",
    "speackers = ['natasha', 'ruslan', 'litres']\n",
    "# speacker = 'litres'\n",
    "modes = ['train_emp', 'train', 'val', 'val_emp']\n",
    "\n",
    "for speacker in speackers:\n",
    "    for mode in modes:\n",
    "        df = pd.read_csv(f'filelists/{speacker}_audio_text_{mode}.txt', sep='|', header=None)\n",
    "        df[0] = df[0].apply(lambda x: wav2mel(x))\n",
    "        df.to_csv(f'filelists/{speacker}_mel_text_{mode}.txt', sep='|', header=None, index=None)"
   ]
  },
  {
   "cell_type": "code",
   "execution_count": 211,
   "id": "36485d99",
   "metadata": {},
   "outputs": [
    {
     "name": "stdout",
     "output_type": "stream",
     "text": [
      "Dockerfile                inference.py              run_latency_tests.sh\r\n",
      "Dockerfile_triton_client  inference_perf.py         run_latency_tests_cpu.sh\r\n",
      "LICENCE                   loss_functions.py         \u001b[0m\u001b[01;34mscripts\u001b[0m/\r\n",
      "README.md                 main.py                   \u001b[01;34mtacotron2\u001b[0m/\r\n",
      "\u001b[01;34maudio\u001b[0m/                    models.py                 \u001b[01;34mtacotron2_common\u001b[0m/\r\n",
      "\u001b[01;34mcheckpoints\u001b[0m/              multiproc.py              \u001b[01;34mtensorrt\u001b[0m/\r\n",
      "config.json               \u001b[01;34mnotebooks\u001b[0m/                test_infer.py\r\n",
      "\u001b[01;34mdata\u001b[0m/                     \u001b[01;34mphrases\u001b[0m/                  test_infer.sh\r\n",
      "data_functions.py         \u001b[01;34mplatform\u001b[0m/                 train.py\r\n",
      "\u001b[01;34mexports\u001b[0m/                  prepare_train_file.ipynb  \u001b[01;34mtrtis_cpp\u001b[0m/\r\n",
      "\u001b[01;34mfilelists\u001b[0m/                preprocess_audio2mel.py   \u001b[01;34mwaveglow\u001b[0m/\r\n",
      "\u001b[01;34mimg\u001b[0m/                      requirements.txt\r\n"
     ]
    }
   ],
   "source": [
    "ls"
   ]
  },
  {
   "cell_type": "markdown",
   "id": "f146cd94",
   "metadata": {},
   "source": [
    "Форматирование wav"
   ]
  },
  {
   "cell_type": "code",
   "execution_count": 4,
   "id": "c460e214",
   "metadata": {},
   "outputs": [],
   "source": [
    "speacker = 'ruslan'\n",
    "mode = 'val'\n",
    "df = pd.read_csv(f'filelists/{speacker}_mel_text_{mode}.txt', sep='|', header=None)"
   ]
  },
  {
   "cell_type": "code",
   "execution_count": 5,
   "id": "1c5ec0e6",
   "metadata": {},
   "outputs": [
    {
     "data": {
      "text/plain": [
       "'data/RUSLAN22/mels/001413_RUSLAN.pt'"
      ]
     },
     "execution_count": 5,
     "metadata": {},
     "output_type": "execute_result"
    }
   ],
   "source": [
    "df[0][0]"
   ]
  },
  {
   "cell_type": "code",
   "execution_count": 11,
   "id": "ca6f8934",
   "metadata": {},
   "outputs": [],
   "source": [
    "import torch\n",
    "%matplotlib inline\n",
    "import matplotlib\n",
    "\n",
    "import matplotlib.pylab as plt\n",
    "melspec = torch.load(df[0][0])"
   ]
  },
  {
   "cell_type": "code",
   "execution_count": 12,
   "id": "3d975d68",
   "metadata": {},
   "outputs": [
    {
     "data": {
      "text/plain": [
       "<matplotlib.image.AxesImage at 0x7f7e51758080>"
      ]
     },
     "execution_count": 12,
     "metadata": {},
     "output_type": "execute_result"
    },
    {
     "data": {
      "image/png": "[encoded data removed]",
      "text/plain": [
       "<Figure size 432x288 with 1 Axes>"
      ]
     },
     "metadata": {
      "needs_background": "light"
     },
     "output_type": "display_data"
    }
   ],
   "source": [
    "plt.imshow(melspec.data.cpu().numpy(), aspect='auto', interpolation='none', origin='lower')"
   ]
  },
  {
   "cell_type": "code",
   "execution_count": null,
   "id": "ed315301",
   "metadata": {},
   "outputs": [],
   "source": [
    "# !sox /root/storage/nastya/data/litres22/005359.wav -b 16 litres.wav gain -1 rate 22050 dither -s\n",
    "# !sox --info -V255 /root/storage/nastya/data/litres22/000002.wav"
   ]
  },
  {
   "cell_type": "code",
   "execution_count": 36,
   "id": "b98a262a",
   "metadata": {},
   "outputs": [],
   "source": [
    "import glob\n",
    "import subprocess\n",
    "\n",
    "for i, row in df.iterrows():\n",
    "#     print(row[6])\n",
    "#   wav = filename.split('/')[-1]\n",
    "#   new_filename = \"RUSLAN22/\" + wav\n",
    "  # print(new_filename)\n",
    "  # subprocess.call(\"sox\" + filename + \"-c 1 -r 22050\" + new_filename, shell=True)\n",
    "    subprocess.run([\"sox\", row[1], \"-c 1\", \"-b 16\", row[6], \"gain\", \"-1\", \"rate\", \"22050\", \"dither\", \"-s\"])"
   ]
  },
  {
   "cell_type": "code",
   "execution_count": null,
   "id": "b1ecfe94",
   "metadata": {},
   "outputs": [],
   "source": []
  },
  {
   "cell_type": "markdown",
   "id": "d60cdc1d",
   "metadata": {},
   "source": [
    "### mfa preprocess"
   ]
  },
  {
   "cell_type": "code",
   "execution_count": 19,
   "id": "cfba9b23",
   "metadata": {},
   "outputs": [],
   "source": [
    "from tps import symbols as smb\n",
    "import re\n",
    "punct = '!\\'\"(),.:;? +' + '-'\n",
    "# + '…'\n",
    "_punct_re = re.compile(\"[{}]\".format(punct))\n",
    "def split_to_tokens(text, punct_re=None):\n",
    "    punct_re = _punct_re if punct_re is None else punct_re\n",
    "    prepared = punct_re.sub(lambda elem: \"⁑{}⁑\".format(elem.group(0)), text)\n",
    "    prepared = prepared.split(\"⁑\")\n",
    "    prepared = [t for t in prepared if t != \"\"]\n",
    "\n",
    "    return prepared"
   ]
  },
  {
   "cell_type": "code",
   "execution_count": 20,
   "id": "d5c0ff1b",
   "metadata": {},
   "outputs": [],
   "source": [
    "phonem_df = pd.read_csv('ruslan_all_phonems.txt', header=None, sep='\\t')"
   ]
  },
  {
   "cell_type": "code",
   "execution_count": 21,
   "id": "389cefa7",
   "metadata": {},
   "outputs": [
    {
     "data": {
      "text/html": [
       "<div>\n",
       "<style scoped>\n",
       "    .dataframe tbody tr th:only-of-type {\n",
       "        vertical-align: middle;\n",
       "    }\n",
       "\n",
       "    .dataframe tbody tr th {\n",
       "        vertical-align: top;\n",
       "    }\n",
       "\n",
       "    .dataframe thead th {\n",
       "        text-align: right;\n",
       "    }\n",
       "</style>\n",
       "<table border=\"1\" class=\"dataframe\">\n",
       "  <thead>\n",
       "    <tr style=\"text-align: right;\">\n",
       "      <th></th>\n",
       "      <th>0</th>\n",
       "      <th>1</th>\n",
       "      <th>2</th>\n",
       "      <th>3</th>\n",
       "      <th>4</th>\n",
       "      <th>5</th>\n",
       "    </tr>\n",
       "  </thead>\n",
       "  <tbody>\n",
       "    <tr>\n",
       "      <th>0</th>\n",
       "      <td>&lt;eps&gt;</td>\n",
       "      <td>1.00</td>\n",
       "      <td>0.00</td>\n",
       "      <td>0.00</td>\n",
       "      <td>0.00</td>\n",
       "      <td>sil</td>\n",
       "    </tr>\n",
       "    <tr>\n",
       "      <th>1</th>\n",
       "      <td>&lt;unk&gt;</td>\n",
       "      <td>0.99</td>\n",
       "      <td>0.39</td>\n",
       "      <td>1.22</td>\n",
       "      <td>0.94</td>\n",
       "      <td>spn</td>\n",
       "    </tr>\n",
       "    <tr>\n",
       "      <th>2</th>\n",
       "      <td>[bracketed]</td>\n",
       "      <td>0.99</td>\n",
       "      <td>0.53</td>\n",
       "      <td>1.50</td>\n",
       "      <td>0.84</td>\n",
       "      <td>spn</td>\n",
       "    </tr>\n",
       "    <tr>\n",
       "      <th>3</th>\n",
       "      <td>а</td>\n",
       "      <td>0.03</td>\n",
       "      <td>0.07</td>\n",
       "      <td>2.25</td>\n",
       "      <td>0.50</td>\n",
       "      <td>a</td>\n",
       "    </tr>\n",
       "    <tr>\n",
       "      <th>4</th>\n",
       "      <td>а</td>\n",
       "      <td>0.99</td>\n",
       "      <td>0.05</td>\n",
       "      <td>2.88</td>\n",
       "      <td>0.28</td>\n",
       "      <td>ɐ</td>\n",
       "    </tr>\n",
       "    <tr>\n",
       "      <th>...</th>\n",
       "      <td>...</td>\n",
       "      <td>...</td>\n",
       "      <td>...</td>\n",
       "      <td>...</td>\n",
       "      <td>...</td>\n",
       "      <td>...</td>\n",
       "    </tr>\n",
       "    <tr>\n",
       "      <th>447251</th>\n",
       "      <td>вахтерша</td>\n",
       "      <td>1.00</td>\n",
       "      <td>0.00</td>\n",
       "      <td>0.00</td>\n",
       "      <td>0.00</td>\n",
       "      <td>v a x tʲ ɪ r ʂ ə</td>\n",
       "    </tr>\n",
       "    <tr>\n",
       "      <th>447252</th>\n",
       "      <td>вахтерша</td>\n",
       "      <td>1.00</td>\n",
       "      <td>0.00</td>\n",
       "      <td>0.00</td>\n",
       "      <td>0.00</td>\n",
       "      <td>v ə x tʲ ɪ r ʂ ə</td>\n",
       "    </tr>\n",
       "    <tr>\n",
       "      <th>447253</th>\n",
       "      <td>диссидентствующий</td>\n",
       "      <td>1.00</td>\n",
       "      <td>0.00</td>\n",
       "      <td>0.00</td>\n",
       "      <td>0.00</td>\n",
       "      <td>dʲ ɪ sʲː ɪ dʲ e n̪ t̪ s̪ t̪ v ʊ j ʉ ɕː ɪ j</td>\n",
       "    </tr>\n",
       "    <tr>\n",
       "      <th>447254</th>\n",
       "      <td>необозримым</td>\n",
       "      <td>1.00</td>\n",
       "      <td>0.00</td>\n",
       "      <td>0.00</td>\n",
       "      <td>0.00</td>\n",
       "      <td>ɲ ɪ ə b ɐ z̪ rʲ i m ɨ m</td>\n",
       "    </tr>\n",
       "    <tr>\n",
       "      <th>447255</th>\n",
       "      <td>приблизительное</td>\n",
       "      <td>1.00</td>\n",
       "      <td>0.00</td>\n",
       "      <td>0.00</td>\n",
       "      <td>0.00</td>\n",
       "      <td>p rʲ ɪ b ʎ ɪ zʲ i tʲ ɪ ʎ n̪ ə j ə</td>\n",
       "    </tr>\n",
       "  </tbody>\n",
       "</table>\n",
       "<p>447256 rows × 6 columns</p>\n",
       "</div>"
      ],
      "text/plain": [
       "                        0     1     2     3     4  \\\n",
       "0                   <eps>  1.00  0.00  0.00  0.00   \n",
       "1                   <unk>  0.99  0.39  1.22  0.94   \n",
       "2             [bracketed]  0.99  0.53  1.50  0.84   \n",
       "3                       а  0.03  0.07  2.25  0.50   \n",
       "4                       а  0.99  0.05  2.88  0.28   \n",
       "...                   ...   ...   ...   ...   ...   \n",
       "447251           вахтерша  1.00  0.00  0.00  0.00   \n",
       "447252           вахтерша  1.00  0.00  0.00  0.00   \n",
       "447253  диссидентствующий  1.00  0.00  0.00  0.00   \n",
       "447254        необозримым  1.00  0.00  0.00  0.00   \n",
       "447255    приблизительное  1.00  0.00  0.00  0.00   \n",
       "\n",
       "                                                 5  \n",
       "0                                              sil  \n",
       "1                                              spn  \n",
       "2                                              spn  \n",
       "3                                                a  \n",
       "4                                                ɐ  \n",
       "...                                            ...  \n",
       "447251                            v a x tʲ ɪ r ʂ ə  \n",
       "447252                            v ə x tʲ ɪ r ʂ ə  \n",
       "447253  dʲ ɪ sʲː ɪ dʲ e n̪ t̪ s̪ t̪ v ʊ j ʉ ɕː ɪ j  \n",
       "447254                     ɲ ɪ ə b ɐ z̪ rʲ i m ɨ m  \n",
       "447255           p rʲ ɪ b ʎ ɪ zʲ i tʲ ɪ ʎ n̪ ə j ə  \n",
       "\n",
       "[447256 rows x 6 columns]"
      ]
     },
     "execution_count": 21,
     "metadata": {},
     "output_type": "execute_result"
    }
   ],
   "source": [
    "phonem_df"
   ]
  },
  {
   "cell_type": "code",
   "execution_count": 22,
   "id": "f66c2306",
   "metadata": {},
   "outputs": [],
   "source": [
    "from collections import Counter\n",
    "i = 0\n",
    "letters = Counter()\n",
    "for index, row in phonem_df.iterrows():\n",
    "#     print(row[0], ''.join(row[5].split()))\n",
    "    letters.update(row[5].split(' '))\n",
    "#     i+= 1\n",
    "#     if i == 10:\n",
    "#         break"
   ]
  },
  {
   "cell_type": "code",
   "execution_count": 23,
   "id": "8d8ef54b",
   "metadata": {},
   "outputs": [
    {
     "data": {
      "text/plain": [
       "dict_keys(['sil', 'spn', 'a', 'ɐ', 'mʲ', 'pʲ', 'e', 'r', 'ə', 'k', 'm', 'ɪ', 'x', 'c', 'f', 'ʊ', 'ɨ', 'n̪', 'ɟ', 'tɕ', 'j', 'o', 'vʲ', 't̪s̪', 's̪', 'ɕː', 'ɲ', 'ç', 'p', 'b', 'sʲ', 'd̪', 'd̪ː', 'ʐ', 'u', 'rʲ', 'z̪', 'zʲ', 'i', 't̪', 'tʲ', 'ʎ', 'ɫ', 'v', 'ɡ', 'ʂ', 'ɛ', 'bː', 'bʲː', 'bʲ', 'dʲ', 'dʐː', 'ɫː', 'rː', 'n̪ː', 'sʲː', 't̪s̪ː', 'fʲ', 's̪ː', 'ʉ', 'vː', 'vʲː', 'pː', 'pʲː', 'ɵ', 'æ', 'ɲː', 'tɕː', 'ɣ', 'ɟː', 'dʲː', 'kː', 'cː', 'ʎː', 'jː', 'd̪z̪', 't̪ː', 'mː', 'mʲː', 'rʲː', 'tʂ', 'tʲː', 'fʲː', 'fː', 'ʂː', 'dzʲː', 'd̪z̪ː', 'ʐː', 'z̪ː', 'tʂː', 'ɕ', 'ʑː', 'ɡː', 'xː', 'zʲː', 'tsʲ'])"
      ]
     },
     "execution_count": 23,
     "metadata": {},
     "output_type": "execute_result"
    }
   ],
   "source": [
    "letters.keys()"
   ]
  },
  {
   "cell_type": "code",
   "execution_count": 24,
   "id": "13db8e0c",
   "metadata": {},
   "outputs": [],
   "source": [
    "# phonem_dict = {row[0]: row[5] for index, row in phonem_df.iterrows()}"
   ]
  },
  {
   "cell_type": "code",
   "execution_count": 25,
   "id": "3f9fe989",
   "metadata": {},
   "outputs": [],
   "source": [
    "phonem_dict = {}\n",
    "for index, row in phonem_df.iterrows():\n",
    "    if row[0] not in phonem_dict:\n",
    "        phonem_dict[row[0]] = row[5]"
   ]
  },
  {
   "cell_type": "code",
   "execution_count": 26,
   "id": "afb5d83f",
   "metadata": {},
   "outputs": [
    {
     "data": {
      "text/plain": [
       "['p', 'r', 'ɐ', 'mʲ', 'e', 'tʲ', 'ɪ', 'j']"
      ]
     },
     "execution_count": 26,
     "metadata": {},
     "output_type": "execute_result"
    }
   ],
   "source": [
    "phonem_dict['прометей'].split(' ')\n"
   ]
  },
  {
   "cell_type": "code",
   "execution_count": 34,
   "id": "c9607efa",
   "metadata": {},
   "outputs": [
    {
     "data": {
      "text/plain": [
       "array(['С тревожным чувством берусь я за перо.',\n",
       "       'Кого интересуют признания литературного неудачника?',\n",
       "       'Что поучительного в его исповеди?', ...,\n",
       "       'Он начинает преобразовывать жизнь, достигая иногда курьезных мичуринских результатов. ',\n",
       "       'Допустим, выводит морковь, совершенно неотличимую от картофеля. В общем, создает новую человеческую породу. ',\n",
       "       'Известно, чем это кончается... Что в этой ситуации предпринимает моралист? Он тоже пытается достичь гармонии.'],\n",
       "      dtype=object)"
      ]
     },
     "execution_count": 34,
     "metadata": {},
     "output_type": "execute_result"
    }
   ],
   "source": [
    "df[1].values"
   ]
  },
  {
   "cell_type": "code",
   "execution_count": 35,
   "id": "0d74d511",
   "metadata": {},
   "outputs": [
    {
     "data": {
      "text/plain": [
       "['Известно',\n",
       " ',',\n",
       " ' ',\n",
       " 'чем',\n",
       " ' ',\n",
       " 'это',\n",
       " ' ',\n",
       " 'кончается',\n",
       " '.',\n",
       " '.',\n",
       " '.',\n",
       " ' ',\n",
       " 'Что',\n",
       " ' ',\n",
       " 'в',\n",
       " ' ',\n",
       " 'этой',\n",
       " ' ',\n",
       " 'ситуации',\n",
       " ' ',\n",
       " 'предпринимает',\n",
       " ' ',\n",
       " 'моралист',\n",
       " '?',\n",
       " ' ',\n",
       " 'Он',\n",
       " ' ',\n",
       " 'тоже',\n",
       " ' ',\n",
       " 'пытается',\n",
       " ' ',\n",
       " 'достичь',\n",
       " ' ',\n",
       " 'гармонии',\n",
       " '.']"
      ]
     },
     "execution_count": 35,
     "metadata": {},
     "output_type": "execute_result"
    }
   ],
   "source": [
    "split_to_tokens('Известно, чем это кончается... Что в этой ситуации предпринимает моралист? Он тоже пытается достичь гармонии.', _punct_re)"
   ]
  },
  {
   "cell_type": "code",
   "execution_count": 36,
   "id": "8e08481b",
   "metadata": {},
   "outputs": [
    {
     "data": {
      "text/plain": [
       "'!\\'\"(),.:;? +-'"
      ]
     },
     "execution_count": 36,
     "metadata": {},
     "output_type": "execute_result"
    }
   ],
   "source": [
    "punct"
   ]
  },
  {
   "cell_type": "code",
   "execution_count": 27,
   "id": "75741c37",
   "metadata": {},
   "outputs": [],
   "source": [
    "def g2p(sentence):\n",
    "    new_sentence = ['{']\n",
    "    is_correct = True\n",
    "    sentence = sentence.lower()\n",
    "    for word in split_to_tokens(sentence, _punct_re):\n",
    "        if word in phonem_dict:\n",
    "            new_sentence.append(phonem_dict[word])\n",
    "        elif word in punct:\n",
    "#             new_sentence.append(' ')\n",
    "#             if word == ' ':\n",
    "#                 new_sentence.append(\"# \")\n",
    "#             else:\n",
    "            new_sentence.append(word)\n",
    "        else:\n",
    "            is_correct = False\n",
    "    new_sentence.append('}')\n",
    "    return ''.join(new_sentence) if is_correct else None"
   ]
  },
  {
   "cell_type": "code",
   "execution_count": 28,
   "id": "b0bc8a06",
   "metadata": {},
   "outputs": [
    {
     "data": {
      "text/plain": [
       "['{ɪ',\n",
       " 'z̪',\n",
       " 'vʲ',\n",
       " 'e',\n",
       " 's̪',\n",
       " 'n̪',\n",
       " 'ə,',\n",
       " 'tɕ',\n",
       " 'e',\n",
       " 'm',\n",
       " 'ɛ',\n",
       " 't̪',\n",
       " 'ə',\n",
       " 'k',\n",
       " 'ɐ',\n",
       " 'ɲ',\n",
       " 'tɕ',\n",
       " 'æ',\n",
       " 'j',\n",
       " 'ɪ',\n",
       " 't̪',\n",
       " 's̪',\n",
       " 'ə...',\n",
       " 'ʂ',\n",
       " 't̪',\n",
       " 'o',\n",
       " 'f',\n",
       " 'ɛ',\n",
       " 't̪',\n",
       " 'ə',\n",
       " 'j',\n",
       " 'sʲ',\n",
       " 'ɪ',\n",
       " 't̪',\n",
       " 'ʊ',\n",
       " 'a',\n",
       " 't̪s̪',\n",
       " 'ɨ',\n",
       " 'ɪ',\n",
       " 'p',\n",
       " 'rʲ',\n",
       " 'ɪ',\n",
       " 't̪',\n",
       " 'p',\n",
       " 'rʲ',\n",
       " 'ɪ',\n",
       " 'ɲ',\n",
       " 'ɪ',\n",
       " 'm',\n",
       " 'a',\n",
       " 'j',\n",
       " 'ɪ',\n",
       " 't̪',\n",
       " 'm',\n",
       " 'ə',\n",
       " 'r',\n",
       " 'ɐ',\n",
       " 'ʎ',\n",
       " 'i',\n",
       " 's̪',\n",
       " 't̪?',\n",
       " 'o',\n",
       " 'n̪',\n",
       " 't̪',\n",
       " 'o',\n",
       " 'ʐ',\n",
       " 'ɨ',\n",
       " 'p',\n",
       " 'ɨ',\n",
       " 't̪',\n",
       " 'a',\n",
       " 'j',\n",
       " 'ɪ',\n",
       " 't̪',\n",
       " 's̪',\n",
       " 'ə',\n",
       " 'd̪',\n",
       " 'ɐ',\n",
       " 'sʲ',\n",
       " 'tʲ',\n",
       " 'i',\n",
       " 'tɕ',\n",
       " 'ɡ',\n",
       " 'ɐ',\n",
       " 'r',\n",
       " 'm',\n",
       " 'o',\n",
       " 'ɲ',\n",
       " 'ɪ',\n",
       " 'ɪ.}']"
      ]
     },
     "execution_count": 28,
     "metadata": {},
     "output_type": "execute_result"
    }
   ],
   "source": [
    "g2p('Известно, чем это кончается... Что в этой ситуации предпринимает моралист? Он тоже пытается достичь гармонии.').split(' ')"
   ]
  },
  {
   "cell_type": "code",
   "execution_count": 29,
   "id": "cfc96c57",
   "metadata": {},
   "outputs": [],
   "source": [
    "df[7] = df[1].apply(lambda x: g2p(x))"
   ]
  },
  {
   "cell_type": "code",
   "execution_count": 30,
   "id": "b76ca9bd",
   "metadata": {},
   "outputs": [
    {
     "data": {
      "text/plain": [
       "'{f o r m ɨ ɪ dʲ ɪ ə ɫ ɐ ɟ i tɕ ɪ s̪ k ə j dʲ ɪ vʲ e r sʲ ɪ ɪ s̪ ə vʲ ɪ r ʂ ɛ n̪ s̪ t̪ v ʊ j ʊ t̪ s̪ ə, s̪ t̪ ɐ n̪ o vʲ ə t̪ s̪ ə ʊ t̪ ɐ ɲ tɕ e ɲː ɪ j e i r ə z̪ n̪ ɐ ɐ b r a zʲ ɲ e j e, i s̪ ɛ tʲ ɪ m n̪ a d̪ ə rʲ ɪ ʂ ɨ tʲ ɪ ʎ n̪ ə b ɐ r o t̪ s̪ː ə, ɲ e d̪ ə p ʊ s̪ k a j ə ʎ ɪ bʲ ɪ r ɐ ʎ i z̪ m ə.}'"
      ]
     },
     "execution_count": 30,
     "metadata": {},
     "output_type": "execute_result"
    }
   ],
   "source": [
    "g2p(df[1][1000])"
   ]
  },
  {
   "cell_type": "code",
   "execution_count": 31,
   "id": "df45637c",
   "metadata": {},
   "outputs": [
    {
     "data": {
      "text/plain": [
       "'k ɐ ɲ tɕ æ j ɪ t̪ s̪ ə'"
      ]
     },
     "execution_count": 31,
     "metadata": {},
     "output_type": "execute_result"
    }
   ],
   "source": [
    "phonem_dict['кончается']"
   ]
  },
  {
   "cell_type": "code",
   "execution_count": 32,
   "id": "3c2d6a5a",
   "metadata": {},
   "outputs": [
    {
     "data": {
      "text/plain": [
       "0        {s̪ t̪ rʲ ɪ v o ʐ n̪ ɨ m tɕ u s̪ t̪ v ə m bʲ ɪ...\n",
       "1        {k ɐ v o ɪ ɲ tʲ ɪ rʲ ɪ s̪ u j ʊ t̪ p rʲ ɪ z̪ n...\n",
       "2        {ʂ t̪ o p ə ʊ tɕ i tʲ ɪ ʎ n̪ ə v ə f j ɪ v o i...\n",
       "3        {d̪ a i ʐ ɨ zʲ ɲ m o j ə ʎ ɪ ʂ ɨ n̪ a v ɲ e ʂ ...\n",
       "4                {j a ɐ p s̪ ɐ ʎ u t̪ n̪ ə z̪ d̪ ɐ r o f.}\n",
       "                               ...                        \n",
       "22195    {m ɨ ʐ a ʐ dʲ ɪ m s̪ ə vʲ ɪ r ʂ ɛ n̪ s̪ t̪ v ə...\n",
       "22196    {rʲ ɪ v ə ʎ ʊ t̪s̪ ɨ ɐ ɲ e r dʲ e ɫ ə j ɪ t̪ p...\n",
       "22197    {o n̪ n̪ ə tɕ ɪ n̪ a j ɪ t̪ p rʲ ɪ ə b r ɐ z̪ ...\n",
       "22198    {d̪ ɐ p u sʲ tʲ ɪ m, v ɨ v o dʲ ɪ t̪ m ɐ r k o...\n",
       "22199    {ɪ z̪ vʲ e s̪ n̪ ə, tɕ e m ɛ t̪ ə k ɐ ɲ tɕ æ j...\n",
       "Name: 7, Length: 21408, dtype: object"
      ]
     },
     "execution_count": 32,
     "metadata": {},
     "output_type": "execute_result"
    }
   ],
   "source": [
    "df[7]"
   ]
  },
  {
   "cell_type": "code",
   "execution_count": 33,
   "id": "8d674445",
   "metadata": {},
   "outputs": [],
   "source": [
    "df = df[df[7].notna()]"
   ]
  },
  {
   "cell_type": "code",
   "execution_count": 34,
   "id": "0c2b2ce0",
   "metadata": {},
   "outputs": [
    {
     "data": {
      "text/plain": [
       "'{s̪ t̪ rʲ ɪ v o ʐ n̪ ɨ m tɕ u s̪ t̪ v ə m bʲ ɪ r u sʲ j a z̪ ə pʲ ɪ r o.}'"
      ]
     },
     "execution_count": 34,
     "metadata": {},
     "output_type": "execute_result"
    }
   ],
   "source": [
    "df[7][0]"
   ]
  },
  {
   "cell_type": "code",
   "execution_count": 35,
   "id": "d3a5b521",
   "metadata": {},
   "outputs": [],
   "source": [
    "from collections import Counter\n",
    "letters = Counter()\n",
    "for index, row in df.iterrows():\n",
    "#     if 'э' in row[7]:\n",
    "#         print(row[0], row[1], row[7])\n",
    "    letters.update(row[7].lower())"
   ]
  },
  {
   "cell_type": "code",
   "execution_count": 65,
   "id": "6779c504",
   "metadata": {
    "scrolled": false
   },
   "outputs": [
    {
     "data": {
      "text/plain": [
       "Counter({'s': 78728,\n",
       "         '̪': 222492,\n",
       "         ' ': 1769492,\n",
       "         '#': 255315,\n",
       "         't': 112635,\n",
       "         'r': 67356,\n",
       "         'ʲ': 129960,\n",
       "         'ɪ': 117595,\n",
       "         'v': 50219,\n",
       "         'o': 47554,\n",
       "         'ʐ': 13587,\n",
       "         'n': 54821,\n",
       "         'ɨ': 42376,\n",
       "         'm': 46142,\n",
       "         'ɕ': 22397,\n",
       "         'u': 18922,\n",
       "         'ə': 106845,\n",
       "         'b': 22791,\n",
       "         'j': 58164,\n",
       "         'a': 67796,\n",
       "         'z': 24322,\n",
       "         'p': 36240,\n",
       "         '.': 44439,\n",
       "         'k': 38620,\n",
       "         'ɐ': 68868,\n",
       "         'ɲ': 30593,\n",
       "         'ʊ': 28960,\n",
       "         'ʎ': 32355,\n",
       "         'd': 38010,\n",
       "         '?': 3905,\n",
       "         'ʂ': 15782,\n",
       "         'i': 36714,\n",
       "         'f': 20443,\n",
       "         'e': 53935,\n",
       "         'ɟ': 4108,\n",
       "         'ʉ': 2727,\n",
       "         'æ': 3863,\n",
       "         'ː': 16112,\n",
       "         'ɡ': 13501,\n",
       "         ',': 20640,\n",
       "         'ɫ': 37863,\n",
       "         'c': 11597,\n",
       "         'x': 11611,\n",
       "         'ɛ': 8297,\n",
       "         '!': 2479,\n",
       "         '-': 12873,\n",
       "         'ɵ': 355,\n",
       "         'ç': 556,\n",
       "         '\"': 3981,\n",
       "         '(': 238,\n",
       "         ')': 237,\n",
       "         'ʑ': 7,\n",
       "         \"'\": 4,\n",
       "         'ɣ': 9,\n",
       "         ';': 5})"
      ]
     },
     "execution_count": 65,
     "metadata": {},
     "output_type": "execute_result"
    }
   ],
   "source": [
    "letters"
   ]
  },
  {
   "cell_type": "code",
   "execution_count": 36,
   "id": "57a126cf",
   "metadata": {},
   "outputs": [],
   "source": [
    "train, val = train_test_split(df, test_size=0.1, random_state=42)"
   ]
  },
  {
   "cell_type": "code",
   "execution_count": null,
   "id": "c29aa9e8",
   "metadata": {},
   "outputs": [],
   "source": []
  },
  {
   "cell_type": "code",
   "execution_count": 37,
   "id": "8f7275fb",
   "metadata": {},
   "outputs": [],
   "source": [
    "train[[0, 7]].to_csv('filelists/ruslan_data_train_phonems.txt', header=None, index=None, sep='|')\n",
    "val[[0, 7]].to_csv('filelists/ruslan_data_val_phonems.txt', header=None, index=None, sep='|')"
   ]
  },
  {
   "cell_type": "code",
   "execution_count": 71,
   "id": "359f55da",
   "metadata": {},
   "outputs": [
    {
     "data": {
      "text/plain": [
       "(21271, 8)"
      ]
     },
     "execution_count": 71,
     "metadata": {},
     "output_type": "execute_result"
    }
   ],
   "source": [
    "df.shape"
   ]
  },
  {
   "cell_type": "code",
   "execution_count": null,
   "id": "ab1c5bef",
   "metadata": {},
   "outputs": [],
   "source": []
  }
 ],
 "metadata": {
  "kernelspec": {
   "display_name": "Python 3 (ipykernel)",
   "language": "python",
   "name": "python3"
  },
  "language_info": {
   "codemirror_mode": {
    "name": "ipython",
    "version": 3
   },
   "file_extension": ".py",
   "mimetype": "text/x-python",
   "name": "python",
   "nbconvert_exporter": "python",
   "pygments_lexer": "ipython3",
   "version": "3.8.13"
  }
 },
 "nbformat": 4,
 "nbformat_minor": 5
}
